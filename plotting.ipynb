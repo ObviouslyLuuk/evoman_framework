{
 "cells": [
  {
   "cell_type": "markdown",
   "metadata": {},
   "source": [
    "# File to show plots for the evolution runs"
   ]
  },
  {
   "cell_type": "code",
   "execution_count": null,
   "metadata": {},
   "outputs": [],
   "source": [
    "from plotting import create_plot\n",
    "import os\n",
    "from helpers import RESULTS_DIR\n",
    "from collections import defaultdict\n",
    "\n",
    "# Get experiment names\n",
    "experiments = defaultdict(list)\n",
    "for f in os.listdir(RESULTS_DIR):\n",
    "    if not os.path.isdir(f'{RESULTS_DIR}/{f}'):\n",
    "        continue\n",
    "    experiments['_'.join(f.split('_')[1:])].append(f)\n",
    "\n",
    "for name in experiments.keys():\n",
    "    print(name)\n",
    "    create_plot(name, figsize=(5,3))\n"
   ]
  }
 ],
 "metadata": {
  "kernelspec": {
   "display_name": "Python 3",
   "language": "python",
   "name": "python3"
  },
  "language_info": {
   "codemirror_mode": {
    "name": "ipython",
    "version": 3
   },
   "file_extension": ".py",
   "mimetype": "text/x-python",
   "name": "python",
   "nbconvert_exporter": "python",
   "pygments_lexer": "ipython3",
   "version": "3.7.9"
  },
  "orig_nbformat": 4
 },
 "nbformat": 4,
 "nbformat_minor": 2
}
