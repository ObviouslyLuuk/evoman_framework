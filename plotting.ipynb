{
 "cells": [
  {
   "cell_type": "code",
   "execution_count": null,
   "metadata": {},
   "outputs": [],
   "source": [
    "from collections import defaultdict\n",
    "import os\n",
    "import json\n",
    "\n",
    "# Show possible values for the config files\n",
    "config_values = defaultdict(set)\n",
    "results_folders = [f for f in os.listdir('.') if os.path.isdir(f) and f.startswith('results')]\n",
    "folders = []\n",
    "for results_folder in results_folders:\n",
    "    folders += [f\"{results_folder}/{f}\" for f in os.listdir(results_folder) if os.path.isdir(os.path.join(results_folder, f))]\n",
    "for folder in folders:\n",
    "    with open(os.path.join(folder, 'config.json'), 'r') as f:\n",
    "        config = json.load(f)\n",
    "    for key, value in config.items():\n",
    "        config_values[key].add(str(value))\n",
    "\n",
    "# Drop experiment name, best, mean, std\n",
    "for key in ['experiment_name', 'best', 'mean', 'std']:\n",
    "    config_values.pop(key, None)\n",
    "display(config_values)"
   ]
  },
  {
   "cell_type": "markdown",
   "metadata": {},
   "source": [
    "# File to show plots for the evolution runs"
   ]
  },
  {
   "cell_type": "code",
   "execution_count": null,
   "metadata": {},
   "outputs": [],
   "source": [
    "from plotting import create_plot\n",
    "from helpers import find_folders, RESULTS_DIR\n",
    "\n",
    "default_config = {\n",
    "    \"randomini\": \"yes\",\n",
    "    \"n_hidden_neurons\": 10,\n",
    "    \"pop_size\": 100,\n",
    "    \"mutation_rate\": 0.2,\n",
    "    \"normalization_method\": \"domain_specific\",\n",
    "    \"fitness_method\": \"balanced\",\n",
    "    \"pick_parent_method\": \"multinomial\",\n",
    "    \"survivor_method\": \"greedy\",\n",
    "    \"domain_upper\": 1,\n",
    "    \"domain_lower\": -1,\n",
    "}\n",
    "\n",
    "variable = {\"fitness_method\": [\"default\", \"balanced\"]}\n",
    "# variable = {\"normalization_method\": [\"default\", \"domain_specific\"]}\n",
    "\n",
    "for enemies in [[1], [2], [3], [4], [5], [6], [7], [8]]:\n",
    "    print(f\"Enemies: {enemies}\")\n",
    "    config = default_config.copy()\n",
    "    config.update({\"enemies\": enemies})\n",
    "\n",
    "    folders_list = []\n",
    "    for value in list(variable.values())[0]:\n",
    "        config.update({list(variable.keys())[0]: value})\n",
    "\n",
    "        folders_list.append(find_folders(config))\n",
    "\n",
    "    create_plot(variable, *folders_list, figsize=(5,3), results_dir=RESULTS_DIR)\n"
   ]
  },
  {
   "cell_type": "markdown",
   "metadata": {},
   "source": [
    "# Boxplots\n",
    "\n",
    "number of wins/defeats isn't great as a metric for a boxplot because it only ranges between 0 and 8"
   ]
  },
  {
   "cell_type": "code",
   "execution_count": null,
   "metadata": {},
   "outputs": [],
   "source": [
    "# Boxplots\n",
    "from plotting import create_boxplot\n",
    "from helpers import find_folders, RESULTS_DIR\n",
    "\n",
    "default_config = {\n",
    "    \"randomini\": \"yes\",\n",
    "    \"n_hidden_neurons\": 10,\n",
    "    \"pop_size\": 100,\n",
    "    \"mutation_rate\": 0.2,\n",
    "    \"normalization_method\": \"domain_specific\",\n",
    "    \"fitness_method\": \"balanced\",\n",
    "    \"pick_parent_method\": \"multinomial\",\n",
    "    \"survivor_method\": \"greedy\",\n",
    "    \"domain_upper\": 1,\n",
    "    \"domain_lower\": -1,\n",
    "}\n",
    "# variable = {\"fitness_method\": [\"default\", \"balanced\"]}\n",
    "# variable = {\"normalization_method\": [\"default\", \"domain_specific\"]}\n",
    "variable = {\"randomini\": [\"no\", \"yes\"]}\n",
    "\n",
    "# Same as above but with boxplots\n",
    "for enemies in [[1], [2], [3], [4], [5], [6], [7], [8]]:\n",
    "    print(f\"Enemies: {enemies}\")\n",
    "    config = default_config.copy()\n",
    "    config.update({\"enemies\": enemies})\n",
    "\n",
    "    folders_list = []\n",
    "    for value in list(variable.values())[0]:\n",
    "        config.update({list(variable.keys())[0]: value})\n",
    "\n",
    "        folders_list.append(find_folders(config))\n",
    "\n",
    "    create_boxplot(variable, *folders_list, figsize=(5,3), results_dir=RESULTS_DIR, randomini_eval=False)"
   ]
  }
 ],
 "metadata": {
  "kernelspec": {
   "display_name": "Python 3",
   "language": "python",
   "name": "python3"
  },
  "language_info": {
   "codemirror_mode": {
    "name": "ipython",
    "version": 3
   },
   "file_extension": ".py",
   "mimetype": "text/x-python",
   "name": "python",
   "nbconvert_exporter": "python",
   "pygments_lexer": "ipython3",
   "version": "3.7.9"
  },
  "orig_nbformat": 4
 },
 "nbformat": 4,
 "nbformat_minor": 2
}
