{
 "cells": [
  {
   "cell_type": "markdown",
   "metadata": {},
   "source": [
    "# File to show plots for the evolution runs"
   ]
  },
  {
   "cell_type": "code",
   "execution_count": null,
   "metadata": {},
   "outputs": [],
   "source": [
    "from plotting import create_plot\n",
    "import os\n",
    "from helpers import RESULTS_DIR\n",
    "from collections import defaultdict\n",
    "\n",
    "# Get experiment names\n",
    "experiments = defaultdict(list)\n",
    "for f in os.listdir(RESULTS_DIR):\n",
    "    if not os.path.isdir(f'{RESULTS_DIR}/{f}'):\n",
    "        continue\n",
    "    experiments['_'.join(f.split('_')[1:])].append(f)\n",
    "\n",
    "for name in experiments.keys():\n",
    "    print(name)\n",
    "    create_plot(name, figsize=(5,3))\n"
   ]
  },
  {
   "cell_type": "markdown",
   "metadata": {},
   "source": [
    "# Boxplots\n",
    "\n",
    "number of wins/defeats isn't great as a metric for a boxplot because it only ranges between 0 and 8"
   ]
  },
  {
   "cell_type": "code",
   "execution_count": null,
   "metadata": {},
   "outputs": [],
   "source": [
    "# Boxplots\n",
    "from plotting import create_boxplot\n",
    "import os\n",
    "from helpers import RESULTS_DIR\n",
    "from collections import defaultdict\n",
    "\n",
    "# Get experiment names\n",
    "experiments = defaultdict(list)\n",
    "for f in os.listdir(RESULTS_DIR):\n",
    "    if not os.path.isdir(f'{RESULTS_DIR}/{f}'):\n",
    "        continue\n",
    "    experiments['_'.join(f.split('_')[1:])].append(f)\n",
    "\n",
    "for name in experiments.keys():\n",
    "    print(name)\n",
    "    create_boxplot(name, metric=\"fitness_balanced\", figsize=(5,3))\n"
   ]
  },
  {
   "cell_type": "code",
   "execution_count": 5,
   "metadata": {},
   "outputs": [],
   "source": [
    "# Refresh overview.csv\n",
    "from helpers import RESULTS_DIR\n",
    "from plotting import compare_configs\n",
    "from collections import defaultdict\n",
    "import pandas as pd\n",
    "import json\n",
    "import os\n",
    "\n",
    "# First get all experiment names\n",
    "experiments = defaultdict(list)\n",
    "for f in os.listdir(RESULTS_DIR):\n",
    "    if not os.path.isdir(f'{RESULTS_DIR}/{f}'):\n",
    "        continue\n",
    "    experiments['_'.join(f.split('_')[1:])].append(f)\n",
    "\n",
    "experiment_names = list(experiments.keys())\n",
    "\n",
    "# Then create overview.csv by getting the best fitness for each experiment\n",
    "overview = pd.DataFrame()\n",
    "for name, folders in experiments.items():\n",
    "    folders = compare_configs(folders)\n",
    "\n",
    "    # Get best fitness from config.json\n",
    "    fitness_by_folder = {}\n",
    "    for folder in folders:\n",
    "        with open(f'{RESULTS_DIR}/{folder}/config.json', 'r') as f:\n",
    "            config = json.load(f)\n",
    "        best_fitness = config['best']\n",
    "        fitness_by_folder[folder] = best_fitness\n",
    "    \n",
    "    # Add experiment_name, best_fitness and best_folder to overview\n",
    "    best_folder = max(fitness_by_folder, key=fitness_by_folder.get)\n",
    "\n",
    "    overview = overview.append({\n",
    "        'experiment_name': name,\n",
    "        'best_fitness': fitness_by_folder[best_folder],\n",
    "        'best_folder': best_folder\n",
    "    }, ignore_index=True)\n",
    "\n",
    "# Sort overview by experiment_name\n",
    "overview = overview.sort_values(by=['experiment_name'])\n",
    "\n",
    "# Save overview to csv\n",
    "overview.to_csv(f'{RESULTS_DIR}/overview.csv', index=False)"
   ]
  }
 ],
 "metadata": {
  "kernelspec": {
   "display_name": "Python 3",
   "language": "python",
   "name": "python3"
  },
  "language_info": {
   "codemirror_mode": {
    "name": "ipython",
    "version": 3
   },
   "file_extension": ".py",
   "mimetype": "text/x-python",
   "name": "python",
   "nbconvert_exporter": "python",
   "pygments_lexer": "ipython3",
   "version": "3.7.9"
  },
  "orig_nbformat": 4
 },
 "nbformat": 4,
 "nbformat_minor": 2
}
