{
 "cells": [
  {
   "cell_type": "markdown",
   "metadata": {},
   "source": [
    "# File to show plots for the evolution runs\n",
    "\n",
    "- Read data from csv file results.csv in optimization_test_[{enemies}] folder\n",
    "- Plot gen vs best fitness, and mean fitness with std bands\n",
    "- Do this for each present optimization_test_[{enemies}] folder\n",
    "- Plot each enemy on a separate plot"
   ]
  },
  {
   "cell_type": "code",
   "execution_count": null,
   "metadata": {},
   "outputs": [],
   "source": [
    "from plotting import create_plot\n",
    "import os\n",
    "\n",
    "# Get folder names\n",
    "folders = [f for f in os.listdir('.') if os.path.isdir(f) and 'optimization_test' in f]\n",
    "print(folders)\n",
    "\n",
    "for folder in folders:\n",
    "    create_plot(folder)"
   ]
  }
 ],
 "metadata": {
  "kernelspec": {
   "display_name": "Python 3",
   "language": "python",
   "name": "python3"
  },
  "language_info": {
   "codemirror_mode": {
    "name": "ipython",
    "version": 3
   },
   "file_extension": ".py",
   "mimetype": "text/x-python",
   "name": "python",
   "nbconvert_exporter": "python",
   "pygments_lexer": "ipython3",
   "version": "3.7.9"
  },
  "orig_nbformat": 4
 },
 "nbformat": 4,
 "nbformat_minor": 2
}
